{
 "cells": [
  {
   "cell_type": "code",
   "execution_count": 1,
   "id": "6c52211b",
   "metadata": {},
   "outputs": [
    {
     "data": {
      "text/plain": [
       "'C:\\\\Users\\\\vijju\\\\OneDrive\\\\Desktop\\\\github_git\\\\python'"
      ]
     },
     "execution_count": 1,
     "metadata": {},
     "output_type": "execute_result"
    }
   ],
   "source": [
    "pwd"
   ]
  },
  {
   "cell_type": "code",
   "execution_count": 1,
   "id": "4b29ae2f",
   "metadata": {},
   "outputs": [
    {
     "name": "stderr",
     "output_type": "stream",
     "text": [
      "'git' is not recognized as an internal or external command,\n",
      "operable program or batch file.\n"
     ]
    }
   ],
   "source": [
    "!git status"
   ]
  },
  {
   "cell_type": "code",
   "execution_count": 11,
   "id": "66ffd329",
   "metadata": {},
   "outputs": [],
   "source": [
    "a , b = \"swe\" , \"acd\""
   ]
  },
  {
   "cell_type": "code",
   "execution_count": 3,
   "id": "09a69846",
   "metadata": {},
   "outputs": [
    {
     "data": {
      "text/plain": [
       "'swe'"
      ]
     },
     "execution_count": 3,
     "metadata": {},
     "output_type": "execute_result"
    }
   ],
   "source": [
    "a"
   ]
  },
  {
   "cell_type": "code",
   "execution_count": 4,
   "id": "37b0b0da",
   "metadata": {},
   "outputs": [],
   "source": [
    "d = {\"abc\" : \"def \", \"123\": \"456\"}"
   ]
  },
  {
   "cell_type": "code",
   "execution_count": 7,
   "id": "cec9c4fd",
   "metadata": {},
   "outputs": [
    {
     "data": {
      "text/plain": [
       "'def '"
      ]
     },
     "execution_count": 7,
     "metadata": {},
     "output_type": "execute_result"
    }
   ],
   "source": [
    "d[\"abc\"]"
   ]
  },
  {
   "cell_type": "code",
   "execution_count": 9,
   "id": "b807656a",
   "metadata": {},
   "outputs": [
    {
     "name": "stdout",
     "output_type": "stream",
     "text": [
      "swe\n",
      "abhi\n",
      "honey\n",
      "bhar\n"
     ]
    }
   ],
   "source": [
    "l = ['swe' , 'abhi' , 'honey' , 'bhar']\n",
    "\n",
    "for i in range(len(l)):\n",
    "    print(l[i])"
   ]
  },
  {
   "cell_type": "code",
   "execution_count": 13,
   "id": "46dade1b",
   "metadata": {},
   "outputs": [
    {
     "data": {
      "text/plain": [
       "'acd acd '"
      ]
     },
     "execution_count": 13,
     "metadata": {},
     "output_type": "execute_result"
    }
   ],
   "source": [
    "\"acd \" * 2"
   ]
  },
  {
   "cell_type": "code",
   "execution_count": 35,
   "id": "2c531311",
   "metadata": {},
   "outputs": [],
   "source": [
    "a = \"this is abhi from ECIL, abhi is from hyd\""
   ]
  },
  {
   "cell_type": "code",
   "execution_count": 15,
   "id": "b7cf2aa4",
   "metadata": {},
   "outputs": [
    {
     "data": {
      "text/plain": [
       "18"
      ]
     },
     "execution_count": 15,
     "metadata": {},
     "output_type": "execute_result"
    }
   ],
   "source": [
    "a.find(\"ecil\")"
   ]
  },
  {
   "cell_type": "code",
   "execution_count": 16,
   "id": "13860b2a",
   "metadata": {},
   "outputs": [],
   "source": [
    "b= a.find(\"abhi\")"
   ]
  },
  {
   "cell_type": "code",
   "execution_count": 17,
   "id": "14eb5bf5",
   "metadata": {},
   "outputs": [
    {
     "data": {
      "text/plain": [
       "8"
      ]
     },
     "execution_count": 17,
     "metadata": {},
     "output_type": "execute_result"
    }
   ],
   "source": [
    "b"
   ]
  },
  {
   "cell_type": "code",
   "execution_count": 20,
   "id": "f09b2e76",
   "metadata": {},
   "outputs": [
    {
     "name": "stdout",
     "output_type": "stream",
     "text": [
      "8\n",
      "9\n",
      "10\n",
      "11\n",
      "12\n",
      "13\n",
      "14\n"
     ]
    }
   ],
   "source": [
    "for i in range(len(\"sudheer\")):\n",
    "\n",
    "     print(b+i)"
   ]
  },
  {
   "cell_type": "code",
   "execution_count": 27,
   "id": "92652811",
   "metadata": {},
   "outputs": [
    {
     "data": {
      "text/plain": [
       "2"
      ]
     },
     "execution_count": 27,
     "metadata": {},
     "output_type": "execute_result"
    }
   ],
   "source": [
    "a.count(\"a\")"
   ]
  },
  {
   "cell_type": "code",
   "execution_count": 16,
   "id": "003d40c7",
   "metadata": {},
   "outputs": [
    {
     "data": {
      "text/plain": [
       "['swetha']"
      ]
     },
     "execution_count": 16,
     "metadata": {},
     "output_type": "execute_result"
    }
   ],
   "source": [
    "d= \" swetha \"\n",
    "d.split()\n"
   ]
  },
  {
   "cell_type": "code",
   "execution_count": 31,
   "id": "f8b70b81",
   "metadata": {},
   "outputs": [
    {
     "data": {
      "text/plain": [
       "'this is abhi from ecil, abhi is from hyd'"
      ]
     },
     "execution_count": 31,
     "metadata": {},
     "output_type": "execute_result"
    }
   ],
   "source": [
    "a.lower()"
   ]
  },
  {
   "cell_type": "code",
   "execution_count": 36,
   "id": "1b56af7e",
   "metadata": {},
   "outputs": [
    {
     "data": {
      "text/plain": [
       "'THIS IS ABHI FROM ecil, ABHI IS FROM HYD'"
      ]
     },
     "execution_count": 36,
     "metadata": {},
     "output_type": "execute_result"
    }
   ],
   "source": [
    "a.swapcase()"
   ]
  },
  {
   "cell_type": "code",
   "execution_count": 38,
   "id": "0781ae01",
   "metadata": {},
   "outputs": [
    {
     "data": {
      "text/plain": [
       "'t h i s   i s   a b h i   f r o m   E C I L ,   a b h i   i s   f r o m   h y d'"
      ]
     },
     "execution_count": 38,
     "metadata": {},
     "output_type": "execute_result"
    }
   ],
   "source": [
    "\" \".join(a)"
   ]
  },
  {
   "cell_type": "code",
   "execution_count": 39,
   "id": "1f042e65",
   "metadata": {},
   "outputs": [
    {
     "data": {
      "text/plain": [
       "<reversed at 0x1e0472ad190>"
      ]
     },
     "execution_count": 39,
     "metadata": {},
     "output_type": "execute_result"
    }
   ],
   "source": [
    "reversed(a)"
   ]
  },
  {
   "cell_type": "code",
   "execution_count": 42,
   "id": "a629b5c8",
   "metadata": {},
   "outputs": [
    {
     "name": "stdout",
     "output_type": "stream",
     "text": [
      "dyh morf si ihba ,LICE morf ihba si siht"
     ]
    }
   ],
   "source": [
    "for i in reversed(a):\n",
    "    print(i, end = \"\")"
   ]
  },
  {
   "cell_type": "code",
   "execution_count": 43,
   "id": "6a2cb21d",
   "metadata": {},
   "outputs": [
    {
     "data": {
      "text/plain": [
       "'dyh morf si ihba ,LICE morf ihba si siht'"
      ]
     },
     "execution_count": 43,
     "metadata": {},
     "output_type": "execute_result"
    }
   ],
   "source": [
    "a[::-1]"
   ]
  },
  {
   "cell_type": "code",
   "execution_count": 46,
   "id": "b36ca640",
   "metadata": {},
   "outputs": [
    {
     "data": {
      "text/plain": [
       "'abhi ram'"
      ]
     },
     "execution_count": 46,
     "metadata": {},
     "output_type": "execute_result"
    }
   ],
   "source": [
    "b= \" abhi ram \"\n",
    "b.strip()"
   ]
  },
  {
   "cell_type": "code",
   "execution_count": 47,
   "id": "0e4b1305",
   "metadata": {},
   "outputs": [
    {
     "data": {
      "text/plain": [
       "'abhi ram '"
      ]
     },
     "execution_count": 47,
     "metadata": {},
     "output_type": "execute_result"
    }
   ],
   "source": [
    "b.lstrip()"
   ]
  },
  {
   "cell_type": "code",
   "execution_count": 48,
   "id": "e655b2dc",
   "metadata": {},
   "outputs": [
    {
     "data": {
      "text/plain": [
       "'this is vijju from ECIL, vijju is from hyd'"
      ]
     },
     "execution_count": 48,
     "metadata": {},
     "output_type": "execute_result"
    }
   ],
   "source": [
    "a.replace(\"abhi\" , \"vijju\")"
   ]
  },
  {
   "cell_type": "code",
   "execution_count": 49,
   "id": "551e3e24",
   "metadata": {},
   "outputs": [
    {
     "data": {
      "text/plain": [
       "'this is abhi from ECIL, abhi is from hyd'"
      ]
     },
     "execution_count": 49,
     "metadata": {},
     "output_type": "execute_result"
    }
   ],
   "source": [
    "a"
   ]
  },
  {
   "cell_type": "code",
   "execution_count": 50,
   "id": "7b454435",
   "metadata": {},
   "outputs": [
    {
     "data": {
      "text/plain": [
       "'C:\\\\Users\\\\vijju\\\\OneDrive\\\\Desktop\\\\github_git\\\\python'"
      ]
     },
     "execution_count": 50,
     "metadata": {},
     "output_type": "execute_result"
    }
   ],
   "source": [
    "pwd"
   ]
  },
  {
   "cell_type": "code",
   "execution_count": 51,
   "id": "d45c9b25",
   "metadata": {},
   "outputs": [
    {
     "name": "stderr",
     "output_type": "stream",
     "text": [
      "'git' is not recognized as an internal or external command,\n",
      "operable program or batch file.\n"
     ]
    }
   ],
   "source": [
    "!git add list.ipynb"
   ]
  },
  {
   "cell_type": "code",
   "execution_count": 3,
   "id": "33c35596",
   "metadata": {},
   "outputs": [
    {
     "data": {
      "text/plain": [
       "'C:\\\\Users\\\\vijju\\\\OneDrive\\\\Desktop\\\\github_git\\\\python'"
      ]
     },
     "execution_count": 3,
     "metadata": {},
     "output_type": "execute_result"
    }
   ],
   "source": [
    "pwd"
   ]
  },
  {
   "cell_type": "code",
   "execution_count": 2,
   "id": "9369ee59",
   "metadata": {},
   "outputs": [
    {
     "name": "stderr",
     "output_type": "stream",
     "text": [
      "'git' is not recognized as an internal or external command,\n",
      "operable program or batch file.\n"
     ]
    }
   ],
   "source": [
    "!git add list.ipynb"
   ]
  },
  {
   "cell_type": "code",
   "execution_count": 8,
   "id": "2793dd1a",
   "metadata": {},
   "outputs": [
    {
     "name": "stderr",
     "output_type": "stream",
     "text": [
      "'git' is not recognized as an internal or external command,\n",
      "operable program or batch file.\n"
     ]
    }
   ],
   "source": [
    "!git add list.ipynb"
   ]
  },
  {
   "cell_type": "code",
   "execution_count": 5,
   "id": "e4f0ec92",
   "metadata": {},
   "outputs": [
    {
     "ename": "ModuleNotFoundError",
     "evalue": "No module named 'OS'",
     "output_type": "error",
     "traceback": [
      "\u001b[1;31m---------------------------------------------------------------------------\u001b[0m",
      "\u001b[1;31mModuleNotFoundError\u001b[0m                       Traceback (most recent call last)",
      "Input \u001b[1;32mIn [5]\u001b[0m, in \u001b[0;36m<cell line: 1>\u001b[1;34m()\u001b[0m\n\u001b[1;32m----> 1\u001b[0m \u001b[38;5;28;01mimport\u001b[39;00m \u001b[38;5;21;01mOS\u001b[39;00m\n",
      "\u001b[1;31mModuleNotFoundError\u001b[0m: No module named 'OS'"
     ]
    }
   ],
   "source": [
    "import OS"
   ]
  },
  {
   "cell_type": "code",
   "execution_count": 6,
   "id": "aa3d9661",
   "metadata": {},
   "outputs": [],
   "source": [
    "import os"
   ]
  },
  {
   "cell_type": "code",
   "execution_count": 21,
   "id": "ca0c65da",
   "metadata": {},
   "outputs": [
    {
     "data": {
      "text/plain": [
       "True"
      ]
     },
     "execution_count": 21,
     "metadata": {},
     "output_type": "execute_result"
    }
   ],
   "source": [
    "d.ispr()"
   ]
  },
  {
   "cell_type": "code",
   "execution_count": 22,
   "id": "baf73e69",
   "metadata": {},
   "outputs": [],
   "source": [
    "a = \"swetha from hyd\""
   ]
  },
  {
   "cell_type": "code",
   "execution_count": 27,
   "id": "e71c78b9",
   "metadata": {},
   "outputs": [
    {
     "name": "stdout",
     "output_type": "stream",
     "text": [
      "15\n"
     ]
    }
   ],
   "source": [
    "count = 0\n",
    "\n",
    "for i in a:\n",
    "    count = count +1\n",
    "print(count)\n",
    "    "
   ]
  },
  {
   "cell_type": "code",
   "execution_count": 34,
   "id": "a86158ba",
   "metadata": {},
   "outputs": [
    {
     "name": "stdout",
     "output_type": "stream",
     "text": [
      "d\n",
      "y\n",
      "h\n",
      " \n",
      "m\n",
      "o\n",
      "r\n",
      "f\n",
      " \n",
      "a\n",
      "h\n",
      "t\n",
      "e\n",
      "w\n"
     ]
    }
   ],
   "source": [
    "for i in range(1,len(a)):\n",
    "    print(a[-i])"
   ]
  },
  {
   "cell_type": "code",
   "execution_count": 33,
   "id": "6ffd5dcf",
   "metadata": {},
   "outputs": [
    {
     "name": "stdout",
     "output_type": "stream",
     "text": [
      "d\n",
      "y\n",
      "h\n",
      " \n",
      "m\n",
      "o\n",
      "r\n",
      "f\n",
      " \n",
      "a\n",
      "h\n",
      "t\n",
      "e\n",
      "w\n",
      "s\n"
     ]
    }
   ],
   "source": [
    "ch = len(a)-1\n",
    "\n",
    "while ch>=0:\n",
    "    print(a[ch])\n",
    "    ch=ch-1"
   ]
  },
  {
   "cell_type": "code",
   "execution_count": 35,
   "id": "a7d8db27",
   "metadata": {},
   "outputs": [],
   "source": [
    "b = \"my name is swetha\""
   ]
  },
  {
   "cell_type": "code",
   "execution_count": 36,
   "id": "2736c807",
   "metadata": {},
   "outputs": [
    {
     "data": {
      "text/plain": [
       "'my name is swetha'"
      ]
     },
     "execution_count": 36,
     "metadata": {},
     "output_type": "execute_result"
    }
   ],
   "source": [
    "b.format(\"swetha\", \"vijay\")"
   ]
  },
  {
   "cell_type": "code",
   "execution_count": 37,
   "id": "47149ff1",
   "metadata": {},
   "outputs": [
    {
     "name": "stdout",
     "output_type": "stream",
     "text": [
      " bhagi 1st student , swe 2nd student) , abhi 3rd student , honey 4th student\n"
     ]
    }
   ],
   "source": [
    "s1 = \"bhagi\"\n",
    "s2 = \"swe\"\n",
    "s3 = \"abhi\"\n",
    "s4 = \"honey\"\n",
    "\n",
    "print(\" {} 1st student , {} 2nd student) , {} 3rd student , {} 4th student\" . format(s1,s2,s3,s4))"
   ]
  },
  {
   "cell_type": "code",
   "execution_count": 39,
   "id": "6c8c4041",
   "metadata": {},
   "outputs": [
    {
     "name": "stdout",
     "output_type": "stream",
     "text": [
      "True\n"
     ]
    }
   ],
   "source": [
    "v = \"aeiou\"\n",
    "\n",
    "if \"a\" in v:\n",
    "    print(True)\n",
    "else:\n",
    "    print(False)"
   ]
  },
  {
   "cell_type": "code",
   "execution_count": 41,
   "id": "1044ae46",
   "metadata": {},
   "outputs": [
    {
     "name": "stdout",
     "output_type": "stream",
     "text": [
      "s is not a vowel \n",
      "w is not a vowel \n",
      "e is a vowel\n",
      "t is not a vowel \n",
      "h is not a vowel \n",
      "a is a vowel\n"
     ]
    }
   ],
   "source": [
    "name = \"swetha\"\n",
    "vowels = \"AaEeIiOoUu\"\n",
    "for i in name:\n",
    "    if i in vowels:\n",
    "        print(\"{} is a vowel\".format(i))\n",
    "    else:\n",
    "        print(\"{} is not a vowel \". format(i))"
   ]
  },
  {
   "cell_type": "code",
   "execution_count": 42,
   "id": "cd2e74fe",
   "metadata": {},
   "outputs": [],
   "source": [
    "a = \"eye\"\n",
    "b = \"did\"\n",
    "c = \"level\"\n",
    "d = \"madam\"\n",
    "e = \"nitin\""
   ]
  },
  {
   "cell_type": "code",
   "execution_count": null,
   "id": "2ae4c49b",
   "metadata": {},
   "outputs": [],
   "source": [
    "s = input(\"enter palindrome:\")\n",
    "\n",
    "s1 = s[::-1]\n",
    "\n",
    "p = \"palindrome\"\n",
    "\n",
    "if s == s1:\n",
    "    print(\" {} is a {} \" . format(s,p))\n",
    "else:\n",
    "    print(\"{} is not a {} \" . format(s,p))\n",
    "    "
   ]
  },
  {
   "cell_type": "code",
   "execution_count": 4,
   "id": "92ae1a26",
   "metadata": {},
   "outputs": [],
   "source": [
    "\n",
    "l = [1,2,3,4]"
   ]
  },
  {
   "cell_type": "code",
   "execution_count": 5,
   "id": "a57ef202",
   "metadata": {},
   "outputs": [
    {
     "data": {
      "text/plain": [
       "[2, 3]"
      ]
     },
     "execution_count": 5,
     "metadata": {},
     "output_type": "execute_result"
    }
   ],
   "source": [
    "l[1:3]"
   ]
  },
  {
   "cell_type": "code",
   "execution_count": 8,
   "id": "34045ec0",
   "metadata": {},
   "outputs": [
    {
     "data": {
      "text/plain": [
       "[3]"
      ]
     },
     "execution_count": 8,
     "metadata": {},
     "output_type": "execute_result"
    }
   ],
   "source": [
    "l[2:-1]"
   ]
  },
  {
   "cell_type": "code",
   "execution_count": 9,
   "id": "f2c11cdf",
   "metadata": {},
   "outputs": [],
   "source": [
    "a = [\"abc\" , \"def\"]\n",
    "b = \"ghijkl\""
   ]
  },
  {
   "cell_type": "code",
   "execution_count": 21,
   "id": "6a0b8477",
   "metadata": {},
   "outputs": [],
   "source": [
    "c= list(b)"
   ]
  },
  {
   "cell_type": "code",
   "execution_count": 22,
   "id": "0a9d587c",
   "metadata": {},
   "outputs": [
    {
     "data": {
      "text/plain": [
       "['g', 'h', 'i', 'j', 'k', 'l']"
      ]
     },
     "execution_count": 22,
     "metadata": {},
     "output_type": "execute_result"
    }
   ],
   "source": [
    "c"
   ]
  },
  {
   "cell_type": "code",
   "execution_count": 15,
   "id": "59695da5",
   "metadata": {},
   "outputs": [
    {
     "data": {
      "text/plain": [
       "list"
      ]
     },
     "execution_count": 15,
     "metadata": {},
     "output_type": "execute_result"
    }
   ],
   "source": [
    "type(c)"
   ]
  },
  {
   "cell_type": "code",
   "execution_count": 16,
   "id": "be424e58",
   "metadata": {},
   "outputs": [
    {
     "data": {
      "text/plain": [
       "['abc', 'def', 'g', 'h', 'i', 'j', 'k', 'l']"
      ]
     },
     "execution_count": 16,
     "metadata": {},
     "output_type": "execute_result"
    }
   ],
   "source": [
    "a + c"
   ]
  },
  {
   "cell_type": "code",
   "execution_count": 17,
   "id": "d0c6819e",
   "metadata": {},
   "outputs": [],
   "source": [
    "a = str(a)"
   ]
  },
  {
   "cell_type": "code",
   "execution_count": 18,
   "id": "371ac804",
   "metadata": {},
   "outputs": [
    {
     "data": {
      "text/plain": [
       "\"['abc', 'def']\""
      ]
     },
     "execution_count": 18,
     "metadata": {},
     "output_type": "execute_result"
    }
   ],
   "source": [
    "a"
   ]
  },
  {
   "cell_type": "code",
   "execution_count": 19,
   "id": "9348fd57",
   "metadata": {},
   "outputs": [
    {
     "data": {
      "text/plain": [
       "str"
      ]
     },
     "execution_count": 19,
     "metadata": {},
     "output_type": "execute_result"
    }
   ],
   "source": [
    "type(a)"
   ]
  },
  {
   "cell_type": "code",
   "execution_count": 25,
   "id": "afdba6fd",
   "metadata": {},
   "outputs": [
    {
     "data": {
      "text/plain": [
       "\"['abc', 'def']rty\""
      ]
     },
     "execution_count": 25,
     "metadata": {},
     "output_type": "execute_result"
    }
   ],
   "source": [
    "d= \"rty\"\n",
    "a + d"
   ]
  },
  {
   "cell_type": "code",
   "execution_count": 30,
   "id": "5582e07f",
   "metadata": {},
   "outputs": [],
   "source": [
    "e = [2,3,4]\n"
   ]
  },
  {
   "cell_type": "code",
   "execution_count": 31,
   "id": "f99a36f4",
   "metadata": {},
   "outputs": [
    {
     "data": {
      "text/plain": [
       "[2, 3, 4]"
      ]
     },
     "execution_count": 31,
     "metadata": {},
     "output_type": "execute_result"
    }
   ],
   "source": [
    "e"
   ]
  },
  {
   "cell_type": "code",
   "execution_count": 32,
   "id": "ed24caa2",
   "metadata": {},
   "outputs": [
    {
     "name": "stdout",
     "output_type": "stream",
     "text": [
      "2\n",
      "3\n",
      "4\n"
     ]
    }
   ],
   "source": [
    "for i in e:\n",
    "    print(i)"
   ]
  },
  {
   "cell_type": "code",
   "execution_count": 36,
   "id": "2f598cb9",
   "metadata": {},
   "outputs": [
    {
     "name": "stdout",
     "output_type": "stream",
     "text": [
      "int\n",
      "string\n",
      "list\n",
      "boolean\n"
     ]
    }
   ],
   "source": [
    "a = [1, \"abc\", [2,3,4], True]\n",
    "\n",
    "for i in a:\n",
    "    if type(i)==list:\n",
    "        print(\"list\")\n",
    "    elif type(i)==int:\n",
    "        print(\"int\")\n",
    "    elif type(i)==str:\n",
    "        print(\"string\")\n",
    "    else:\n",
    "        print(\"boolean\")"
   ]
  },
  {
   "cell_type": "code",
   "execution_count": 37,
   "id": "217d6765",
   "metadata": {},
   "outputs": [],
   "source": [
    "a.append([4,5,6])"
   ]
  },
  {
   "cell_type": "code",
   "execution_count": 38,
   "id": "84acedd3",
   "metadata": {},
   "outputs": [
    {
     "data": {
      "text/plain": [
       "[1, 'abc', [2, 3, 4], True, [4, 5, 6]]"
      ]
     },
     "execution_count": 38,
     "metadata": {},
     "output_type": "execute_result"
    }
   ],
   "source": [
    "a"
   ]
  },
  {
   "cell_type": "code",
   "execution_count": 39,
   "id": "be1010a4",
   "metadata": {},
   "outputs": [],
   "source": [
    "b = [45,3,2]"
   ]
  },
  {
   "cell_type": "code",
   "execution_count": 41,
   "id": "01f4d778",
   "metadata": {},
   "outputs": [
    {
     "data": {
      "text/plain": [
       "45"
      ]
     },
     "execution_count": 41,
     "metadata": {},
     "output_type": "execute_result"
    }
   ],
   "source": [
    "max(b)"
   ]
  },
  {
   "cell_type": "code",
   "execution_count": 42,
   "id": "c99cea46",
   "metadata": {},
   "outputs": [],
   "source": [
    "c= [\"abc\" , \"ABC\"]"
   ]
  },
  {
   "cell_type": "code",
   "execution_count": 43,
   "id": "47938b05",
   "metadata": {},
   "outputs": [
    {
     "data": {
      "text/plain": [
       "'abc'"
      ]
     },
     "execution_count": 43,
     "metadata": {},
     "output_type": "execute_result"
    }
   ],
   "source": [
    "max(c)"
   ]
  },
  {
   "cell_type": "code",
   "execution_count": 47,
   "id": "17836e72",
   "metadata": {},
   "outputs": [],
   "source": [
    "a.insert(5,\"erf\")"
   ]
  },
  {
   "cell_type": "code",
   "execution_count": 48,
   "id": "9ba866e5",
   "metadata": {},
   "outputs": [
    {
     "data": {
      "text/plain": [
       "[1, 'abc', [2, 3, 4], True, [4, 5, 6], 'erf']"
      ]
     },
     "execution_count": 48,
     "metadata": {},
     "output_type": "execute_result"
    }
   ],
   "source": [
    "a"
   ]
  },
  {
   "cell_type": "code",
   "execution_count": 49,
   "id": "59aa0204",
   "metadata": {},
   "outputs": [
    {
     "data": {
      "text/plain": [
       "3"
      ]
     },
     "execution_count": 49,
     "metadata": {},
     "output_type": "execute_result"
    }
   ],
   "source": [
    "b = [2,4,5,2,6,2]\n",
    "b.count(2)"
   ]
  },
  {
   "cell_type": "code",
   "execution_count": 50,
   "id": "16910039",
   "metadata": {},
   "outputs": [],
   "source": [
    "b.extend(\"swe\")"
   ]
  },
  {
   "cell_type": "code",
   "execution_count": 51,
   "id": "e9d837db",
   "metadata": {},
   "outputs": [
    {
     "data": {
      "text/plain": [
       "[2, 4, 5, 2, 6, 2, 's', 'w', 'e']"
      ]
     },
     "execution_count": 51,
     "metadata": {},
     "output_type": "execute_result"
    }
   ],
   "source": [
    "b"
   ]
  },
  {
   "cell_type": "code",
   "execution_count": 52,
   "id": "47d7d70b",
   "metadata": {},
   "outputs": [
    {
     "data": {
      "text/plain": [
       "2"
      ]
     },
     "execution_count": 52,
     "metadata": {},
     "output_type": "execute_result"
    }
   ],
   "source": [
    "b.index(5)"
   ]
  },
  {
   "cell_type": "code",
   "execution_count": 55,
   "id": "9d3e1ee1",
   "metadata": {},
   "outputs": [
    {
     "data": {
      "text/plain": [
       "'e'"
      ]
     },
     "execution_count": 55,
     "metadata": {},
     "output_type": "execute_result"
    }
   ],
   "source": [
    "b.pop()"
   ]
  },
  {
   "cell_type": "code",
   "execution_count": 56,
   "id": "5b9a487f",
   "metadata": {},
   "outputs": [
    {
     "data": {
      "text/plain": [
       "[2, 4, 5, 2, 6, 2, 'w']"
      ]
     },
     "execution_count": 56,
     "metadata": {},
     "output_type": "execute_result"
    }
   ],
   "source": [
    "b"
   ]
  },
  {
   "cell_type": "code",
   "execution_count": 61,
   "id": "92a2e47c",
   "metadata": {},
   "outputs": [],
   "source": [
    "b.remove(2)"
   ]
  },
  {
   "cell_type": "code",
   "execution_count": 62,
   "id": "7de7a10b",
   "metadata": {},
   "outputs": [
    {
     "data": {
      "text/plain": [
       "[4, 5, 6, 'w']"
      ]
     },
     "execution_count": 62,
     "metadata": {},
     "output_type": "execute_result"
    }
   ],
   "source": [
    "b"
   ]
  },
  {
   "cell_type": "code",
   "execution_count": 63,
   "id": "275a48e6",
   "metadata": {},
   "outputs": [],
   "source": [
    "b.reverse()"
   ]
  },
  {
   "cell_type": "code",
   "execution_count": 64,
   "id": "1db6fd70",
   "metadata": {},
   "outputs": [
    {
     "data": {
      "text/plain": [
       "['w', 6, 5, 4]"
      ]
     },
     "execution_count": 64,
     "metadata": {},
     "output_type": "execute_result"
    }
   ],
   "source": [
    "b"
   ]
  },
  {
   "cell_type": "code",
   "execution_count": 1,
   "id": "49fa851f",
   "metadata": {},
   "outputs": [
    {
     "name": "stderr",
     "output_type": "stream",
     "text": [
      "'git' is not recognized as an internal or external command,\n",
      "operable program or batch file.\n"
     ]
    }
   ],
   "source": [
    "!git status"
   ]
  },
  {
   "cell_type": "code",
   "execution_count": null,
   "id": "d5768bec",
   "metadata": {},
   "outputs": [],
   "source": []
  }
 ],
 "metadata": {
  "kernelspec": {
   "display_name": "Python 3 (ipykernel)",
   "language": "python",
   "name": "python3"
  },
  "language_info": {
   "codemirror_mode": {
    "name": "ipython",
    "version": 3
   },
   "file_extension": ".py",
   "mimetype": "text/x-python",
   "name": "python",
   "nbconvert_exporter": "python",
   "pygments_lexer": "ipython3",
   "version": "3.9.12"
  }
 },
 "nbformat": 4,
 "nbformat_minor": 5
}
