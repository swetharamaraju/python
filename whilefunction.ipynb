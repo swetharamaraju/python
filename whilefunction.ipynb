{
 "cells": [
  {
   "cell_type": "code",
   "execution_count": 2,
   "id": "dcb52cfe",
   "metadata": {},
   "outputs": [],
   "source": [
    "s = \"bhargavi\""
   ]
  },
  {
   "cell_type": "code",
   "execution_count": 12,
   "id": "61904d60",
   "metadata": {},
   "outputs": [
    {
     "data": {
      "text/plain": [
       "'ba'"
      ]
     },
     "execution_count": 12,
     "metadata": {},
     "output_type": "execute_result"
    }
   ],
   "source": [
    "s[:4:2]"
   ]
  },
  {
   "cell_type": "code",
   "execution_count": 3,
   "id": "ba928e11",
   "metadata": {},
   "outputs": [
    {
     "data": {
      "text/plain": [
       "'bg'"
      ]
     },
     "execution_count": 3,
     "metadata": {},
     "output_type": "execute_result"
    }
   ],
   "source": [
    "s[:5:4]"
   ]
  },
  {
   "cell_type": "code",
   "execution_count": 4,
   "id": "5b87614d",
   "metadata": {},
   "outputs": [
    {
     "data": {
      "text/plain": [
       "'g'"
      ]
     },
     "execution_count": 4,
     "metadata": {},
     "output_type": "execute_result"
    }
   ],
   "source": [
    "s[4]"
   ]
  },
  {
   "cell_type": "code",
   "execution_count": 5,
   "id": "d71c2684",
   "metadata": {},
   "outputs": [
    {
     "data": {
      "text/plain": [
       "'ivagrahb'"
      ]
     },
     "execution_count": 5,
     "metadata": {},
     "output_type": "execute_result"
    }
   ],
   "source": [
    "s[::-1]  #to print reverse"
   ]
  },
  {
   "cell_type": "code",
   "execution_count": 6,
   "id": "e46a838f",
   "metadata": {},
   "outputs": [
    {
     "data": {
      "text/plain": [
       "'bharg'"
      ]
     },
     "execution_count": 6,
     "metadata": {},
     "output_type": "execute_result"
    }
   ],
   "source": [
    "s[:5]"
   ]
  },
  {
   "cell_type": "code",
   "execution_count": 7,
   "id": "031e8321",
   "metadata": {},
   "outputs": [
    {
     "data": {
      "text/plain": [
       "'bagv'"
      ]
     },
     "execution_count": 7,
     "metadata": {},
     "output_type": "execute_result"
    }
   ],
   "source": [
    "s[:8:2]"
   ]
  },
  {
   "cell_type": "code",
   "execution_count": 10,
   "id": "72a247ad",
   "metadata": {},
   "outputs": [
    {
     "name": "stdout",
     "output_type": "stream",
     "text": [
      "swetha\tbhargavi\n"
     ]
    }
   ],
   "source": [
    "print(\"swetha\\tbhargavi\") #\\n to print in different lines\n",
    "                          #\\r to print only after slash\n",
    "                        #\\t to print with space"
   ]
  },
  {
   "cell_type": "code",
   "execution_count": 11,
   "id": "3968329c",
   "metadata": {},
   "outputs": [],
   "source": [
    "b = \"my name is swetha\""
   ]
  },
  {
   "cell_type": "code",
   "execution_count": 17,
   "id": "a28f394f",
   "metadata": {},
   "outputs": [],
   "source": [
    "d = \"hi bhargavi hru\""
   ]
  },
  {
   "cell_type": "code",
   "execution_count": 18,
   "id": "7f2a37a5",
   "metadata": {},
   "outputs": [
    {
     "data": {
      "text/plain": [
       "15"
      ]
     },
     "execution_count": 18,
     "metadata": {},
     "output_type": "execute_result"
    }
   ],
   "source": [
    "len(d)"
   ]
  },
  {
   "cell_type": "code",
   "execution_count": 19,
   "id": "6b0ed423",
   "metadata": {},
   "outputs": [
    {
     "data": {
      "text/plain": [
       "'bhargavi'"
      ]
     },
     "execution_count": 19,
     "metadata": {},
     "output_type": "execute_result"
    }
   ],
   "source": [
    "d[3:11:1]"
   ]
  },
  {
   "cell_type": "code",
   "execution_count": 12,
   "id": "ecfe9471",
   "metadata": {},
   "outputs": [
    {
     "data": {
      "text/plain": [
       "17"
      ]
     },
     "execution_count": 12,
     "metadata": {},
     "output_type": "execute_result"
    }
   ],
   "source": [
    "len(b)"
   ]
  },
  {
   "cell_type": "code",
   "execution_count": 13,
   "id": "2107dccf",
   "metadata": {},
   "outputs": [
    {
     "data": {
      "text/plain": [
       "str"
      ]
     },
     "execution_count": 13,
     "metadata": {},
     "output_type": "execute_result"
    }
   ],
   "source": [
    "type(b)"
   ]
  },
  {
   "cell_type": "code",
   "execution_count": 16,
   "id": "da00ba3b",
   "metadata": {},
   "outputs": [
    {
     "data": {
      "text/plain": [
       "''"
      ]
     },
     "execution_count": 16,
     "metadata": {},
     "output_type": "execute_result"
    }
   ],
   "source": [
    "b[10:3]"
   ]
  },
  {
   "cell_type": "code",
   "execution_count": null,
   "id": "e2c3f2cb",
   "metadata": {},
   "outputs": [],
   "source": [
    "[start:stop:stepsize]"
   ]
  },
  {
   "cell_type": "code",
   "execution_count": 23,
   "id": "785d309d",
   "metadata": {},
   "outputs": [
    {
     "name": "stdout",
     "output_type": "stream",
     "text": [
      "s\n",
      "u\n",
      "d\n",
      "h\n",
      "e\n",
      "e\n",
      "r\n"
     ]
    }
   ],
   "source": [
    "g = \"sudheer\"\n",
    "\n",
    "for i in g:\n",
    "    print(i)"
   ]
  },
  {
   "cell_type": "code",
   "execution_count": 18,
   "id": "25ce1a16",
   "metadata": {},
   "outputs": [
    {
     "name": "stdout",
     "output_type": "stream",
     "text": [
      "abhiram"
     ]
    }
   ],
   "source": [
    "a = \"abhiram\"\n",
    "\n",
    "for i in a:\n",
    "    \n",
    "       # print(\"ramaraju\")\n",
    "    print(i, end = '')"
   ]
  },
  {
   "cell_type": "code",
   "execution_count": 22,
   "id": "8ccc2158",
   "metadata": {},
   "outputs": [
    {
     "name": "stdout",
     "output_type": "stream",
     "text": [
      "(0, 'r')\n",
      "(1, 'a')\n",
      "(2, 'm')\n",
      "(3, 'a')\n",
      "(4, 'r')\n",
      "(5, 'a')\n",
      "(6, 'j')\n",
      "(7, 'u')\n"
     ]
    }
   ],
   "source": [
    "k = \"ramaraju\"\n",
    "\n",
    "for i in enumerate(k):\n",
    "    print(i)"
   ]
  },
  {
   "cell_type": "code",
   "execution_count": 9,
   "id": "efbf752b",
   "metadata": {},
   "outputs": [
    {
     "name": "stdout",
     "output_type": "stream",
     "text": [
      "mango\n",
      "mango\n",
      "cherry\n",
      "cherry\n",
      "apple\n"
     ]
    }
   ],
   "source": [
    "fruits = [\"mango\" , \"cherry\" , \"apple\" , \"papaya\" , \"banana\"]\n",
    "\n",
    "for i in fruits:\n",
    "    print(i)\n",
    "    if i == \"apple\":\n",
    "        break\n",
    "    print(i)"
   ]
  },
  {
   "cell_type": "code",
   "execution_count": 36,
   "id": "222a04ba",
   "metadata": {},
   "outputs": [
    {
     "name": "stdout",
     "output_type": "stream",
     "text": [
      "k\n",
      "i\n",
      "this is suri\n",
      "r\n",
      "a\n",
      "n\n"
     ]
    }
   ],
   "source": [
    "s = \"kiran\"\n",
    "\n",
    "for i in s:\n",
    "    if i == 'r':\n",
    "        print(\"this is suri\")\n",
    "    print(i)  "
   ]
  },
  {
   "cell_type": "code",
   "execution_count": 37,
   "id": "799a13c8",
   "metadata": {},
   "outputs": [
    {
     "name": "stdout",
     "output_type": "stream",
     "text": [
      "k\n",
      "i\n"
     ]
    }
   ],
   "source": [
    "fruits = [\"mango\" , \"cherry\" , \"apple\" , \"papaya\" , \"banana\"]\n",
    "\n",
    "s = \"kiran\"\n",
    "\n",
    "for i in s:\n",
    "    if i == 'r':\n",
    "        break\n",
    "    print(i)   "
   ]
  },
  {
   "cell_type": "code",
   "execution_count": 38,
   "id": "74d45f46",
   "metadata": {},
   "outputs": [
    {
     "name": "stdout",
     "output_type": "stream",
     "text": [
      "d\n",
      "d\n",
      "r\n",
      "r\n",
      "g\n",
      "g\n",
      "h\n",
      "h\n",
      "j\n",
      "j\n"
     ]
    }
   ],
   "source": [
    "f = [\"d\" , \"r\" , \"g\" , \"h\" , \"j\"]\n",
    "\n",
    "for i in f:\n",
    "    print(i)\n",
    "    for j in i:\n",
    "        print(j)"
   ]
  },
  {
   "cell_type": "code",
   "execution_count": 16,
   "id": "71b4a3ed",
   "metadata": {},
   "outputs": [
    {
     "name": "stdout",
     "output_type": "stream",
     "text": [
      "1 1\n",
      "1 2\n",
      "1 3\n",
      "2 1\n",
      "2 2\n",
      "2 3\n",
      "3 1\n",
      "3 2\n",
      "3 3\n",
      "4 1\n",
      "4 2\n",
      "4 3\n"
     ]
    }
   ],
   "source": [
    "for i in range(1,5):\n",
    "     for j in range(1,4):\n",
    "          print(i,j)"
   ]
  },
  {
   "cell_type": "code",
   "execution_count": 43,
   "id": "30cb399f",
   "metadata": {
    "scrolled": true
   },
   "outputs": [
    {
     "name": "stdout",
     "output_type": "stream",
     "text": [
      "*****\n",
      "*****\n",
      "*****\n",
      "*****\n",
      "*****\n"
     ]
    }
   ],
   "source": [
    "\n",
    "for i in range(0,5):\n",
    "     print('*' *5)"
   ]
  },
  {
   "cell_type": "code",
   "execution_count": 41,
   "id": "34bfee28",
   "metadata": {
    "scrolled": true
   },
   "outputs": [
    {
     "name": "stdout",
     "output_type": "stream",
     "text": [
      "# # # # # # # # # # \n",
      "# # # # # # # # # # \n",
      "# # # # # # # # # # \n",
      "# # # # # # # # # # \n",
      "# # # # # # # # # # \n",
      "# # # # # # # # # # \n",
      "# # # # # # # # # # \n",
      "# # # # # # # # # # \n",
      "# # # # # # # # # # \n",
      "# # # # # # # # # # \n"
     ]
    }
   ],
   "source": [
    "n=10\n",
    "\n",
    "for i in range(n):\n",
    "    for j in range(n):\n",
    "        print('#' ,end = ' ') # end='' to print in same line\n",
    "    print() #to print in next line"
   ]
  },
  {
   "cell_type": "code",
   "execution_count": 47,
   "id": "30900528",
   "metadata": {},
   "outputs": [
    {
     "name": "stdout",
     "output_type": "stream",
     "text": [
      "$$$$$$\n"
     ]
    }
   ],
   "source": [
    "n = 5 \n",
    "\n",
    "print('$' *6)"
   ]
  },
  {
   "cell_type": "code",
   "execution_count": 48,
   "id": "0eff3bfc",
   "metadata": {},
   "outputs": [
    {
     "name": "stdout",
     "output_type": "stream",
     "text": [
      "* * * * * * "
     ]
    }
   ],
   "source": [
    "n=6\n",
    "for j in range(n):\n",
    "    print('*', end = ' ')"
   ]
  },
  {
   "cell_type": "code",
   "execution_count": 56,
   "id": "a51b3707",
   "metadata": {},
   "outputs": [
    {
     "name": "stdout",
     "output_type": "stream",
     "text": [
      "# # # # # # # # # # \n",
      "# # # # # # # # # # \n",
      "# # # # # # # # # # \n",
      "# # # # # # # # # # \n",
      "# # # # # # # # # # \n",
      "# # # # # # # # # # \n",
      "# # # # # # # # # # \n",
      "# # # # # # # # # # \n",
      "# # # # # # # # # # \n",
      "# # # # # # # # # # \n"
     ]
    }
   ],
   "source": [
    "n = 10\n",
    "\n",
    "for i in range(n):\n",
    "    for j in range (n):\n",
    "            print('#',end = ' ')\n",
    "    print()"
   ]
  },
  {
   "cell_type": "code",
   "execution_count": 44,
   "id": "51cd8555",
   "metadata": {},
   "outputs": [
    {
     "name": "stdout",
     "output_type": "stream",
     "text": [
      "*\n",
      "**\n",
      "***\n",
      "****\n",
      "*****\n"
     ]
    }
   ],
   "source": [
    "n=5\n",
    "\n",
    "for i in range(n):\n",
    "    for j in range(i+1):\n",
    "        print('*', end = '')\n",
    "    print()"
   ]
  },
  {
   "cell_type": "code",
   "execution_count": 65,
   "id": "411029aa",
   "metadata": {},
   "outputs": [
    {
     "name": "stdout",
     "output_type": "stream",
     "text": [
      "*\n",
      "**\n",
      "***\n",
      "****\n",
      "*****\n",
      "******\n",
      "*******\n",
      "********\n",
      "*********\n",
      "**********\n"
     ]
    }
   ],
   "source": [
    "n = 10\n",
    "\n",
    "for i in range(0,n):\n",
    "    for j in range(0,i+1):\n",
    "        print('*', end = '')\n",
    "    print()"
   ]
  },
  {
   "cell_type": "code",
   "execution_count": 64,
   "id": "c66294b4",
   "metadata": {},
   "outputs": [
    {
     "name": "stdout",
     "output_type": "stream",
     "text": [
      "**********\n",
      "*********\n",
      "********\n",
      "*******\n",
      "******\n",
      "*****\n",
      "****\n",
      "***\n",
      "**\n",
      "*\n"
     ]
    }
   ],
   "source": [
    "n = 10\n",
    "for i in range(n):\n",
    "    for i in range(i,n):\n",
    "        print('*', end = '')\n",
    "    print()\n",
    "    "
   ]
  },
  {
   "cell_type": "code",
   "execution_count": 47,
   "id": "f396fa2c",
   "metadata": {},
   "outputs": [
    {
     "name": "stdout",
     "output_type": "stream",
     "text": [
      "1\t2\t3\t4\t5\t6\t7\t8\t9\t10\t\n",
      "2\t4\t6\t8\t10\t12\t14\t16\t18\t20\t\n",
      "3\t6\t9\t12\t15\t18\t21\t24\t27\t30\t\n",
      "4\t8\t12\t16\t20\t24\t28\t32\t36\t40\t\n",
      "5\t10\t15\t20\t25\t30\t35\t40\t45\t50\t\n",
      "6\t12\t18\t24\t30\t36\t42\t48\t54\t60\t\n",
      "7\t14\t21\t28\t35\t42\t49\t56\t63\t70\t\n",
      "8\t16\t24\t32\t40\t48\t56\t64\t72\t80\t\n",
      "9\t18\t27\t36\t45\t54\t63\t72\t81\t90\t\n",
      "10\t20\t30\t40\t50\t60\t70\t80\t90\t100\t\n"
     ]
    }
   ],
   "source": [
    "i=1\n",
    "j=1\n",
    "for i in range(1,11):\n",
    "    for j in range(1,11):\n",
    "        print(i*j,end = '\\t' )\n",
    "    print()\n",
    "\n"
   ]
  },
  {
   "cell_type": "code",
   "execution_count": 1,
   "id": "be4ce677",
   "metadata": {},
   "outputs": [
    {
     "name": "stdout",
     "output_type": "stream",
     "text": [
      "num6\n",
      "6 * 1 = 6\n",
      "6 * 2 = 12\n",
      "6 * 3 = 18\n",
      "6 * 4 = 24\n",
      "6 * 5 = 30\n",
      "6 * 6 = 36\n",
      "6 * 7 = 42\n",
      "6 * 8 = 48\n",
      "6 * 9 = 54\n",
      "6 * 10 = 60\n"
     ]
    }
   ],
   "source": [
    "a = int(input(\"num\"))\n",
    "\n",
    "i = 1\n",
    "\n",
    "while i<= 10:\n",
    "    print(a,'*',i ,'=', a*i)\n",
    "    i=i+1"
   ]
  },
  {
   "cell_type": "code",
   "execution_count": 5,
   "id": "60b4f3c8",
   "metadata": {},
   "outputs": [
    {
     "name": "stdout",
     "output_type": "stream",
     "text": [
      "7 * 1 = 7\n",
      "7 * 2 = 14\n",
      "7 * 3 = 21\n",
      "7 * 4 = 28\n",
      "7 * 5 = 35\n",
      "7 * 6 = 42\n",
      "7 * 7 = 49\n",
      "7 * 8 = 56\n",
      "7 * 9 = 63\n",
      "7 * 10 = 70\n"
     ]
    }
   ],
   "source": [
    "a=7\n",
    "b=range(1,11)\n",
    "for i in b:\n",
    "    print(a,'*',i, '=',a*i)\n",
    "    #i=i+1"
   ]
  },
  {
   "cell_type": "code",
   "execution_count": 1,
   "id": "bb635fe9",
   "metadata": {},
   "outputs": [
    {
     "name": "stdout",
     "output_type": "stream",
     "text": [
      "11 * 1 = 11\n",
      "11 * 2 = 22\n",
      "11 * 3 = 33\n",
      "11 * 4 = 44\n",
      "11 * 5 = 55\n",
      "11 * 6 = 66\n",
      "11 * 7 = 77\n",
      "11 * 8 = 88\n",
      "11 * 9 = 99\n",
      "11 * 10 = 110\n"
     ]
    }
   ],
   "source": [
    "c=11\n",
    "i=1\n",
    "while i<=10:\n",
    "    print(c,\"*\",i,'=',c*i)\n",
    "    i=i+1"
   ]
  },
  {
   "cell_type": "code",
   "execution_count": 6,
   "id": "fa071a3f",
   "metadata": {},
   "outputs": [
    {
     "name": "stdout",
     "output_type": "stream",
     "text": [
      "9 * 1 = 9\n",
      "9 * 2 = 18\n",
      "9 * 3 = 27\n",
      "9 * 4 = 36\n",
      "9 * 5 = 45\n",
      "9 * 6 = 54\n",
      "9 * 7 = 63\n",
      "9 * 8 = 72\n",
      "9 * 9 = 81\n",
      "9 * 10 = 90\n"
     ]
    }
   ],
   "source": [
    "a=9\n",
    "\n",
    "for i in range(1,11):\n",
    "     print(a,\"*\",i,'=',a*i)\n",
    "\n"
   ]
  },
  {
   "cell_type": "code",
   "execution_count": 9,
   "id": "fc24feac",
   "metadata": {},
   "outputs": [
    {
     "name": "stdout",
     "output_type": "stream",
     "text": [
      "*\n",
      "**\n",
      "***\n",
      "****\n",
      "*****\n"
     ]
    }
   ],
   "source": [
    "for i in range(0,5):\n",
    "    for j in range(0,i+1):\n",
    "        print(\"*\", end = '')\n",
    "    print()"
   ]
  },
  {
   "cell_type": "code",
   "execution_count": 14,
   "id": "8dbd3755",
   "metadata": {},
   "outputs": [
    {
     "ename": "IndentationError",
     "evalue": "unindent does not match any outer indentation level (<tokenize>, line 4)",
     "output_type": "error",
     "traceback": [
      "\u001b[1;36m  File \u001b[1;32m<tokenize>:4\u001b[1;36m\u001b[0m\n\u001b[1;33m    print()\u001b[0m\n\u001b[1;37m    ^\u001b[0m\n\u001b[1;31mIndentationError\u001b[0m\u001b[1;31m:\u001b[0m unindent does not match any outer indentation level\n"
     ]
    }
   ],
   "source": [
    "for i in range(0,5):\n",
    "     for j in range(i,5):\n",
    "            print(\"*\", end = '')\n",
    "        print()\n",
    "            "
   ]
  },
  {
   "cell_type": "code",
   "execution_count": null,
   "id": "1e915c90",
   "metadata": {},
   "outputs": [],
   "source": []
  },
  {
   "cell_type": "code",
   "execution_count": null,
   "id": "10dc2a17",
   "metadata": {},
   "outputs": [],
   "source": []
  }
 ],
 "metadata": {
  "kernelspec": {
   "display_name": "Python 3 (ipykernel)",
   "language": "python",
   "name": "python3"
  },
  "language_info": {
   "codemirror_mode": {
    "name": "ipython",
    "version": 3
   },
   "file_extension": ".py",
   "mimetype": "text/x-python",
   "name": "python",
   "nbconvert_exporter": "python",
   "pygments_lexer": "ipython3",
   "version": "3.9.12"
  }
 },
 "nbformat": 4,
 "nbformat_minor": 5
}
